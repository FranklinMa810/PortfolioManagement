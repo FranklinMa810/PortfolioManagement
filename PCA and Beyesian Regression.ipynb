{
 "cells": [
  {
   "cell_type": "markdown",
   "metadata": {},
   "source": [
    "# PCA and Beyesian\n",
    "Franklin Ma    <a href='mailto:franklin.ma@berkeley.edu'>franklin.ma@berkeley.edu</a>"
   ]
  },
  {
   "cell_type": "markdown",
   "metadata": {},
   "source": [
    "**Contact**       \n",
    " \n",
    "**Data Application Lab** | <a href='http://datalaus.com' target='_blank'>www.datalaus.com</a>\n",
    "\n",
    "**Contact us** | <a href='mailto:info@datalaus.com'>info@datalaus.com</a>   \n",
    "\n",
    "**Office phone** | 1-(800)-485-7918"
   ]
  },
  {
   "cell_type": "markdown",
   "metadata": {},
   "source": [
    "## Principal Component Analysis"
   ]
  },
  {
   "cell_type": "markdown",
   "metadata": {},
   "source": [
    "**After this session, you can ask interview questions like:**   \n",
    "1. What's the difference between PCA and Linear Regression?\n",
    "2. When do we need PCA?   \n",
    "3. What kind of data do we need before PCA?\n",
    "4. How to explain the result in PCA? What does **COMPONENT** mean? What does eigenvector mean?\n",
    "5. What does the PCA result should look like? Why they have difference? \n",
    "    1. S&P500   \n",
    "    2. A portfolio contains 6 assets from US, UK, China, Brazil, Russian, and India\n",
    "    3. A portfolio contains 5 factors: Momentum, Value, Beta, Size, Price-Earnings Ratio (**factor model**)\n",
    "6. Can you provide some dimension reduction method?\n",
    "7. What's the difference between PCA and factor model"
   ]
  },
  {
   "cell_type": "markdown",
   "metadata": {},
   "source": [
    "**After this session, what you can put on your resume is like:   **\n",
    "1. PCA in stock market and factor model in Russell 2000"
   ]
  },
  {
   "cell_type": "code",
   "execution_count": 1,
   "metadata": {
    "collapsed": false,
    "uuid": "a82b3a95-9ee0-4ac3-9601-16972b7728b0"
   },
   "outputs": [
    {
     "name": "stderr",
     "output_type": "stream",
     "text": [
      "C:\\Users\\Franklin Ma\\Anaconda2\\lib\\site-packages\\pandas\\io\\data.py:35: FutureWarning: \n",
      "The pandas.io.data module is moved to a separate package (pandas-datareader) and will be removed from pandas in a future version.\n",
      "After installing the pandas-datareader package (https://github.com/pydata/pandas-datareader), you can change the import ``from pandas.io import data, wb`` to ``from pandas_datareader import data, wb``.\n",
      "  FutureWarning)\n"
     ]
    }
   ],
   "source": [
    "import numpy as np\n",
    "import pandas as pd\n",
    "import pandas.io.data as web\n",
    "from sklearn.decomposition import KernelPCA"
   ]
  },
  {
   "cell_type": "markdown",
   "metadata": {},
   "source": [
    "### DAX Index and its 30 Stocks"
   ]
  },
  {
   "cell_type": "code",
   "execution_count": 2,
   "metadata": {
    "collapsed": false,
    "uuid": "b5f51ac2-45b2-4a72-befd-27f38ef6f6d8"
   },
   "outputs": [],
   "source": [
    "symbols = ['ADS.DE', 'ALV.DE', 'BAS.DE', 'BAYN.DE', 'BEI.DE',\n",
    "           'BMW.DE', 'CBK.DE', 'CON.DE', 'DAI.DE', 'DB1.DE',\n",
    "           'DBK.DE', 'DPW.DE', 'DTE.DE', 'EOAN.DE', 'FME.DE',\n",
    "           'FRE.DE', 'HEI.DE', 'HEN3.DE', 'IFX.DE', 'LHA.DE',\n",
    "           'LIN.DE', 'LXS.DE', 'MRK.DE', 'MUV2.DE', 'RWE.DE',\n",
    "           'SAP.DE', 'SDF.DE', 'SIE.DE', 'TKA.DE', 'VOW3.DE',\n",
    "           '^GDAXI']"
   ]
  },
  {
   "cell_type": "code",
   "execution_count": 3,
   "metadata": {
    "collapsed": false,
    "uuid": "1556b1fa-99da-4122-8aa7-b9e06c069a21"
   },
   "outputs": [
    {
     "name": "stdout",
     "output_type": "stream",
     "text": [
      "Wall time: 7.13 s\n"
     ]
    }
   ],
   "source": [
    "%%time\n",
    "data = pd.DataFrame()\n",
    "for sym in symbols:\n",
    "    data[sym] = web.DataReader(sym, data_source='yahoo')['Close']\n",
    "data = data.dropna()"
   ]
  },
  {
   "cell_type": "code",
   "execution_count": 4,
   "metadata": {
    "collapsed": false,
    "uuid": "b4813521-7846-4660-8391-770fea7c318f"
   },
   "outputs": [],
   "source": [
    "dax = pd.DataFrame(data.pop('^GDAXI'))"
   ]
  },
  {
   "cell_type": "code",
   "execution_count": 5,
   "metadata": {
    "collapsed": false,
    "uuid": "03d4a81f-3bd8-47dd-a5b6-84f060fcdf97"
   },
   "outputs": [
    {
     "data": {
      "text/html": [
       "<div>\n",
       "<table border=\"1\" class=\"dataframe\">\n",
       "  <thead>\n",
       "    <tr style=\"text-align: right;\">\n",
       "      <th></th>\n",
       "      <th>ADS.DE</th>\n",
       "      <th>ALV.DE</th>\n",
       "      <th>BAS.DE</th>\n",
       "      <th>BAYN.DE</th>\n",
       "      <th>BEI.DE</th>\n",
       "      <th>BMW.DE</th>\n",
       "    </tr>\n",
       "    <tr>\n",
       "      <th>Date</th>\n",
       "      <th></th>\n",
       "      <th></th>\n",
       "      <th></th>\n",
       "      <th></th>\n",
       "      <th></th>\n",
       "      <th></th>\n",
       "    </tr>\n",
       "  </thead>\n",
       "  <tbody>\n",
       "    <tr>\n",
       "      <th>2010-01-04</th>\n",
       "      <td>38.505</td>\n",
       "      <td>88.54</td>\n",
       "      <td>44.850</td>\n",
       "      <td>56.40</td>\n",
       "      <td>46.445</td>\n",
       "      <td>32.050</td>\n",
       "    </tr>\n",
       "    <tr>\n",
       "      <th>2010-01-05</th>\n",
       "      <td>39.720</td>\n",
       "      <td>88.81</td>\n",
       "      <td>44.170</td>\n",
       "      <td>55.37</td>\n",
       "      <td>46.200</td>\n",
       "      <td>32.310</td>\n",
       "    </tr>\n",
       "    <tr>\n",
       "      <th>2010-01-06</th>\n",
       "      <td>39.400</td>\n",
       "      <td>89.50</td>\n",
       "      <td>44.450</td>\n",
       "      <td>55.02</td>\n",
       "      <td>46.165</td>\n",
       "      <td>32.810</td>\n",
       "    </tr>\n",
       "    <tr>\n",
       "      <th>2010-01-07</th>\n",
       "      <td>39.745</td>\n",
       "      <td>88.47</td>\n",
       "      <td>44.155</td>\n",
       "      <td>54.30</td>\n",
       "      <td>45.700</td>\n",
       "      <td>33.100</td>\n",
       "    </tr>\n",
       "    <tr>\n",
       "      <th>2010-01-08</th>\n",
       "      <td>39.600</td>\n",
       "      <td>87.99</td>\n",
       "      <td>44.020</td>\n",
       "      <td>53.82</td>\n",
       "      <td>44.380</td>\n",
       "      <td>32.655</td>\n",
       "    </tr>\n",
       "  </tbody>\n",
       "</table>\n",
       "</div>"
      ],
      "text/plain": [
       "            ADS.DE  ALV.DE  BAS.DE  BAYN.DE  BEI.DE  BMW.DE\n",
       "Date                                                       \n",
       "2010-01-04  38.505   88.54  44.850    56.40  46.445  32.050\n",
       "2010-01-05  39.720   88.81  44.170    55.37  46.200  32.310\n",
       "2010-01-06  39.400   89.50  44.450    55.02  46.165  32.810\n",
       "2010-01-07  39.745   88.47  44.155    54.30  45.700  33.100\n",
       "2010-01-08  39.600   87.99  44.020    53.82  44.380  32.655"
      ]
     },
     "execution_count": 5,
     "metadata": {},
     "output_type": "execute_result"
    }
   ],
   "source": [
    "data[data.columns[:6]].head()"
   ]
  },
  {
   "cell_type": "markdown",
   "metadata": {},
   "source": [
    "### Applying PCA"
   ]
  },
  {
   "cell_type": "code",
   "execution_count": 6,
   "metadata": {
    "collapsed": false,
    "uuid": "5ae896a2-8493-4d0c-978c-1b4f26ce2291"
   },
   "outputs": [],
   "source": [
    "scale_function = lambda x: (x - x.mean()) / x.std()"
   ]
  },
  {
   "cell_type": "code",
   "execution_count": 7,
   "metadata": {
    "collapsed": false,
    "uuid": "4503ea73-aa94-4187-b9c8-cbf00564bf7a"
   },
   "outputs": [],
   "source": [
    "pca = KernelPCA().fit(data.apply(scale_function))"
   ]
  },
  {
   "cell_type": "code",
   "execution_count": 8,
   "metadata": {
    "collapsed": false,
    "uuid": "e6f9ebd8-1d61-4047-a254-fe0e524f4c8f"
   },
   "outputs": [
    {
     "data": {
      "text/plain": [
       "878"
      ]
     },
     "execution_count": 8,
     "metadata": {},
     "output_type": "execute_result"
    }
   ],
   "source": [
    "len(pca.lambdas_)"
   ]
  },
  {
   "cell_type": "code",
   "execution_count": 9,
   "metadata": {
    "collapsed": false,
    "uuid": "1694bb38-778a-403f-82af-0129fdd3a260"
   },
   "outputs": [
    {
     "data": {
      "text/plain": [
       "array([ 32975.,   5964.,   5405.,   2520.,   1990.,    872.,    729.,\n",
       "          524.,    304.,    212.])"
      ]
     },
     "execution_count": 9,
     "metadata": {},
     "output_type": "execute_result"
    }
   ],
   "source": [
    "pca.lambdas_[:10].round()"
   ]
  },
  {
   "cell_type": "code",
   "execution_count": 10,
   "metadata": {
    "collapsed": false,
    "uuid": "8c11b92d-c1ea-48dd-a47a-fb4d980b5f40"
   },
   "outputs": [],
   "source": [
    "get_we = lambda x: x / x.sum()"
   ]
  },
  {
   "cell_type": "code",
   "execution_count": 11,
   "metadata": {
    "collapsed": false,
    "uuid": "b72fcfcb-d6f0-4101-a59b-c8df516154e8"
   },
   "outputs": [
    {
     "data": {
      "text/plain": [
       "array([ 0.62882054,  0.11372162,  0.10307885,  0.04805489,  0.03794273,\n",
       "        0.01663267,  0.01389357,  0.00999409,  0.00579426,  0.00403689])"
      ]
     },
     "execution_count": 11,
     "metadata": {},
     "output_type": "execute_result"
    }
   ],
   "source": [
    "get_we(pca.lambdas_)[:10]"
   ]
  },
  {
   "cell_type": "code",
   "execution_count": 12,
   "metadata": {
    "collapsed": false,
    "uuid": "d40695cd-b736-484d-bc11-4755eb1d3448"
   },
   "outputs": [
    {
     "data": {
      "text/plain": [
       "0.9316186374902492"
      ]
     },
     "execution_count": 12,
     "metadata": {},
     "output_type": "execute_result"
    }
   ],
   "source": [
    "get_we(pca.lambdas_)[:5].sum()\n"
   ]
  },
  {
   "cell_type": "markdown",
   "metadata": {},
   "source": [
    "### Constructing a PCA Index"
   ]
  },
  {
   "cell_type": "code",
   "execution_count": 13,
   "metadata": {
    "collapsed": false,
    "uuid": "b4691f51-fa25-48d1-855d-907136ee39a7"
   },
   "outputs": [],
   "source": [
    "pca = KernelPCA(n_components=1).fit(data.apply(scale_function))\n",
    "dax['PCA_1'] = pca.transform(-data)"
   ]
  },
  {
   "cell_type": "code",
   "execution_count": 14,
   "metadata": {
    "collapsed": true
   },
   "outputs": [],
   "source": [
    "?pca.transform"
   ]
  },
  {
   "cell_type": "code",
   "execution_count": 15,
   "metadata": {
    "collapsed": false,
    "uuid": "9addd109-7de2-4998-b2f0-11c72c3b98da"
   },
   "outputs": [
    {
     "data": {
      "image/png": "[encoded data removed]",
      "text/plain": [
       "<matplotlib.figure.Figure at 0xba6e1d0>"
      ]
     },
     "metadata": {},
     "output_type": "display_data"
    }
   ],
   "source": [
    "import matplotlib.pyplot as plt\n",
    "%matplotlib inline\n",
    "dax.apply(scale_function).plot(figsize=(8, 4), title = \"German DAX index and PCA index with 1 component\")\n",
    "# tag: pca_1\n",
    "# title: German DAX index and PCA index with 1 component\n",
    "plt.show()"
   ]
  },
  {
   "cell_type": "code",
   "execution_count": 16,
   "metadata": {
    "collapsed": false,
    "uuid": "4b039aad-93a0-439b-b2d5-d24119604fa4"
   },
   "outputs": [],
   "source": [
    "pca = KernelPCA(n_components=5).fit(data.apply(scale_function))\n",
    "pca_components = pca.transform(-data)\n",
    "weights = get_we(pca.lambdas_)\n",
    "dax['PCA_5'] = np.dot(pca_components, weights)"
   ]
  },
  {
   "cell_type": "code",
   "execution_count": 17,
   "metadata": {
    "collapsed": false,
    "uuid": "fc7a90b6-167b-44dc-9a31-38d479be9026"
   },
   "outputs": [
    {
     "data": {
      "image/png": "[encoded data removed]",
      "text/plain": [
       "<matplotlib.figure.Figure at 0xae30ef0>"
      ]
     },
     "metadata": {},
     "output_type": "display_data"
    }
   ],
   "source": [
    "import matplotlib.pyplot as plt\n",
    "%matplotlib inline\n",
    "dax.apply(scale_function).plot(figsize=(8, 4))\n",
    "# tag: pca_2\n",
    "# title: German DAX index and PCA indices with 1 and 5 components\n",
    "plt.show()"
   ]
  },
  {
   "cell_type": "code",
   "execution_count": 18,
   "metadata": {
    "collapsed": false,
    "uuid": "ceb357ad-d98a-4618-8e73-a6dc77a80436"
   },
   "outputs": [
    {
     "data": {
      "text/plain": [
       "array([ 733776.,  733777.,  733778., ...,  736279.,  736282.,  736283.])"
      ]
     },
     "execution_count": 18,
     "metadata": {},
     "output_type": "execute_result"
    }
   ],
   "source": [
    "import matplotlib as mpl\n",
    "mpl_dates = mpl.dates.date2num(data.index.to_pydatetime())\n",
    "mpl_dates"
   ]
  },
  {
   "cell_type": "code",
   "execution_count": 19,
   "metadata": {
    "collapsed": false,
    "uuid": "60ae390c-9534-4e57-bc1e-42e261d0abc9"
   },
   "outputs": [
    {
     "data": {
      "text/plain": [
       "<matplotlib.colorbar.Colorbar at 0xc765780>"
      ]
     },
     "execution_count": 19,
     "metadata": {},
     "output_type": "execute_result"
    },
    {
     "data": {
      "image/png": "[encoded data removed]",
      "text/plain": [
       "<matplotlib.figure.Figure at 0xc238898>"
      ]
     },
     "metadata": {},
     "output_type": "display_data"
    }
   ],
   "source": [
    "plt.figure(figsize=(8, 4))\n",
    "plt.scatter(dax['PCA_5'], dax['^GDAXI'], c=mpl_dates)\n",
    "lin_reg = np.polyval(np.polyfit(dax['PCA_5'],\n",
    "                                dax['^GDAXI'], 1),\n",
    "                                dax['PCA_5'])\n",
    "plt.plot(dax['PCA_5'], lin_reg, 'r', lw=3)\n",
    "plt.grid(True)\n",
    "plt.xlabel('PCA_5')\n",
    "plt.ylabel('^GDAXI')\n",
    "plt.colorbar(ticks=mpl.dates.DayLocator(interval=250),\n",
    "                format=mpl.dates.DateFormatter('%d %b %y'))\n",
    "# tag: pca_3\n",
    "# title: DAX return values against PCA return values with linear regression"
   ]
  },
  {
   "cell_type": "code",
   "execution_count": 20,
   "metadata": {
    "collapsed": false,
    "uuid": "2c9bea6f-bed0-49d0-83ad-a30c17b31922"
   },
   "outputs": [],
   "source": [
    "cut_date = '2011/7/1'\n",
    "early_pca = dax[dax.index < cut_date]['PCA_5']\n",
    "early_reg = np.polyval(np.polyfit(early_pca,\n",
    "                dax['^GDAXI'][dax.index < cut_date], 1),\n",
    "                early_pca)"
   ]
  },
  {
   "cell_type": "code",
   "execution_count": 21,
   "metadata": {
    "collapsed": false,
    "uuid": "0df5fdce-32ae-4b85-836d-91355f33bb90"
   },
   "outputs": [],
   "source": [
    "late_pca = dax[dax.index >= cut_date]['PCA_5']\n",
    "late_reg = np.polyval(np.polyfit(late_pca,\n",
    "                dax['^GDAXI'][dax.index >= cut_date], 1),\n",
    "                late_pca)"
   ]
  },
  {
   "cell_type": "code",
   "execution_count": 22,
   "metadata": {
    "collapsed": false,
    "uuid": "ad8b2336-b13f-49a2-92b9-3f7b340be327"
   },
   "outputs": [
    {
     "data": {
      "text/plain": [
       "<matplotlib.colorbar.Colorbar at 0xc099f98>"
      ]
     },
     "execution_count": 22,
     "metadata": {},
     "output_type": "execute_result"
    },
    {
     "data": {
      "image/png": "[encoded data removed]",
      "text/plain": [
       "<matplotlib.figure.Figure at 0xc7de908>"
      ]
     },
     "metadata": {},
     "output_type": "display_data"
    }
   ],
   "source": [
    "plt.figure(figsize=(8, 4))\n",
    "plt.scatter(dax['PCA_5'], dax['^GDAXI'], c=mpl_dates)\n",
    "plt.plot(early_pca, early_reg, 'r', lw=3)\n",
    "plt.plot(late_pca, late_reg, 'r', lw=3)\n",
    "plt.grid(True)\n",
    "plt.xlabel('PCA_5')\n",
    "plt.ylabel('^GDAXI')\n",
    "plt.colorbar(ticks=mpl.dates.DayLocator(interval=250),\n",
    "                format=mpl.dates.DateFormatter('%d %b %y'))\n",
    "# tag: pca_7\n",
    "# title: DAX index values against PCA index values with early and late regression (regime switch)"
   ]
  },
  {
   "cell_type": "markdown",
   "metadata": {},
   "source": [
    "## Bayesian Regression"
   ]
  },
  {
   "cell_type": "markdown",
   "metadata": {},
   "source": [
    "**After this session, you can ask interview questions like:**   \n",
    "1. Can you tell me the intuition of Beyesian method?\n",
    "2. What is Black-Litterman Model?\n",
    "3. Monte Hall Problem. 1 car and 2 goats behind 3 doors. Open 1 and host will show you a door with a goat behind. \n",
    "4. 1000 coin with a 1 unfair 2-head coin in. Toss a coin 10 times and 10-time head. Prob of unfair coin. \n",
    "5. Travel to Seatlle tmr, 3 friends live there. How can you know whether rain tmr?"
   ]
  },
  {
   "cell_type": "markdown",
   "metadata": {},
   "source": [
    "**After this session, what you can put on your resume is like:   **\n",
    "1. Bayesian Regression and Beyesian method"
   ]
  },
  {
   "cell_type": "markdown",
   "metadata": {},
   "source": [
    "### PyMC3"
   ]
  },
  {
   "cell_type": "code",
   "execution_count": 23,
   "metadata": {
    "collapsed": false,
    "uuid": "72026681-577f-49e6-abe0-f5554e39fa06"
   },
   "outputs": [],
   "source": [
    "import warnings\n",
    "warnings.simplefilter('ignore')\n",
    "import pymc as pm\n",
    "import numpy as np\n",
    "np.random.seed(1000)\n",
    "import matplotlib.pyplot as plt\n",
    "%matplotlib inline"
   ]
  },
  {
   "cell_type": "markdown",
   "metadata": {},
   "source": [
    "### Introductory Example"
   ]
  },
  {
   "cell_type": "code",
   "execution_count": 24,
   "metadata": {
    "collapsed": false,
    "uuid": "4b612fde-e947-4a33-a275-6202d7ded7bb"
   },
   "outputs": [
    {
     "ename": "SyntaxError",
     "evalue": "invalid syntax (<ipython-input-24-768fccb14be0>, line 1)",
     "output_type": "error",
     "traceback": [
      "\u001b[1;36m  File \u001b[1;32m\"<ipython-input-24-768fccb14be0>\"\u001b[1;36m, line \u001b[1;32m1\u001b[0m\n\u001b[1;33m    `x = np.linspace(0, 10, 500)\u001b[0m\n\u001b[1;37m       ^\u001b[0m\n\u001b[1;31mSyntaxError\u001b[0m\u001b[1;31m:\u001b[0m invalid syntax\n"
     ]
    }
   ],
   "source": [
    "`x = np.linspace(0, 10, 500)\n",
    "y = 4 + 2 * x + np.random.standard_normal(len(x)) * 2"
   ]
  },
  {
   "cell_type": "code",
   "execution_count": null,
   "metadata": {
    "collapsed": false,
    "uuid": "ad9f9a77-ffb5-4eed-a79b-bd2ea33ae0e2"
   },
   "outputs": [],
   "source": [
    "reg = np.polyfit(x, y, 1)\n",
    "  # linear regression"
   ]
  },
  {
   "cell_type": "code",
   "execution_count": null,
   "metadata": {
    "collapsed": false,
    "uuid": "4f6cbf6d-06ce-4f8d-a7a7-1209004b686a"
   },
   "outputs": [],
   "source": [
    "plt.figure(figsize=(8, 4))\n",
    "plt.scatter(x, y, c=y, marker='v')\n",
    "plt.plot(x, reg[1] + reg[0] * x, lw=2.0)\n",
    "plt.colorbar()\n",
    "plt.grid(True)\n",
    "plt.xlabel('x')\n",
    "plt.ylabel('y')\n",
    "# tag: pm_fig_0\n",
    "# title: Sample data points a regresion line\n",
    "# size: 90"
   ]
  },
  {
   "cell_type": "code",
   "execution_count": null,
   "metadata": {
    "collapsed": false,
    "uuid": "5903887a-2a6b-4dce-89f1-9de9be686ef4"
   },
   "outputs": [],
   "source": [
    "reg"
   ]
  },
  {
   "cell_type": "code",
   "execution_count": null,
   "metadata": {
    "collapsed": false,
    "uuid": "46936559-a438-475e-bd5b-f669abed06e2"
   },
   "outputs": [],
   "source": [
    "with pm.Model() as model: \n",
    "        # model specifications in PyMC3\n",
    "        # are wrapped in a with-statement\n",
    "    # define priors\n",
    "    alpha = pm.Normal('alpha', mu=0, sd=20)\n",
    "    beta = pm.Normal('beta', mu=0, sd=20)\n",
    "    sigma = pm.Uniform('sigma', lower=0, upper=10)\n",
    "    \n",
    "    # define linear regression\n",
    "    y_est = alpha + beta * x\n",
    "    \n",
    "    # define likelihood\n",
    "    likelihood = pm.Normal('y', mu=y_est, sd=sigma, observed=y)\n",
    "    \n",
    "    # inference\n",
    "    start = pm.find_MAP()\n",
    "      # find starting value by optimization\n",
    "    step = pm.NUTS(state=start)\n",
    "      # instantiate MCMC sampling algorithm\n",
    "    trace = pm.sample(100, step, start=start, progressbar=False)\n",
    "      # draw 100 posterior samples using NUTS sampling"
   ]
  },
  {
   "cell_type": "code",
   "execution_count": null,
   "metadata": {
    "collapsed": false,
    "uuid": "e06c4eed-10d4-4d4c-aea0-4e4164f4d7f5"
   },
   "outputs": [],
   "source": [
    "trace[0]"
   ]
  },
  {
   "cell_type": "code",
   "execution_count": null,
   "metadata": {
    "collapsed": false,
    "uuid": "c172bd48-8b11-4128-9e97-f20ce835d319"
   },
   "outputs": [],
   "source": [
    "fig = pm.traceplot(trace, lines={'alpha': 4, 'beta': 2, 'sigma': 2})\n",
    "plt.figure(figsize=(8, 8))\n",
    "# tag: pm_fig_1\n",
    "# title: Trace plots for alpha, beta and sigma\n",
    "# size: 90"
   ]
  },
  {
   "cell_type": "code",
   "execution_count": null,
   "metadata": {
    "collapsed": false,
    "uuid": "99e44b63-168c-415a-be8f-9347f45578aa"
   },
   "outputs": [],
   "source": [
    "plt.figure(figsize=(8, 4))\n",
    "plt.scatter(x, y, c=y, marker='v')\n",
    "plt.colorbar()\n",
    "plt.grid(True)\n",
    "plt.xlabel('x')\n",
    "plt.ylabel('y')\n",
    "for i in range(len(trace)):\n",
    "    plt.plot(x, trace['alpha'][i] + trace['beta'][i] * x)\n",
    "# tag: pm_fig_2\n",
    "# title: Sample data and regression lines from Bayesian regression\n",
    "# size: 90"
   ]
  },
  {
   "cell_type": "markdown",
   "metadata": {},
   "source": [
    "### Real Data"
   ]
  },
  {
   "cell_type": "code",
   "execution_count": null,
   "metadata": {
    "collapsed": false,
    "uuid": "0562fc9b-01c8-4eae-8e57-959a6e551610"
   },
   "outputs": [],
   "source": [
    "import warnings\n",
    "warnings.simplefilter('ignore')\n",
    "import zipline\n",
    "import pytz\n",
    "import datetime as dt"
   ]
  },
  {
   "cell_type": "code",
   "execution_count": null,
   "metadata": {
    "collapsed": false,
    "uuid": "a3774b4d-09a8-47ce-a56e-aac894334dbd"
   },
   "outputs": [],
   "source": [
    "data = zipline.data.load_from_yahoo(stocks=['GLD', 'GDX'], \n",
    "         end=dt.datetime(2014, 3, 15, 0, 0, 0, 0, pytz.utc)).dropna()\n",
    "data.info()"
   ]
  },
  {
   "cell_type": "code",
   "execution_count": null,
   "metadata": {
    "collapsed": false,
    "uuid": "07c6dea4-fd4f-496c-86f2-e92689797fe8"
   },
   "outputs": [],
   "source": [
    "data.plot(figsize=(8, 4))\n",
    "# tag: zip_fig_1\n",
    "# title: Co-movements of traiding pair\n",
    "# size: 90"
   ]
  },
  {
   "cell_type": "code",
   "execution_count": null,
   "metadata": {
    "collapsed": false,
    "uuid": "8b467729-65d9-4579-8b4c-944fb18bee4c"
   },
   "outputs": [],
   "source": [
    "data.ix[-1] / data.ix[0] - 1"
   ]
  },
  {
   "cell_type": "code",
   "execution_count": null,
   "metadata": {
    "collapsed": false,
    "uuid": "ed244e7b-692f-4e14-b642-80ceccf221b2"
   },
   "outputs": [],
   "source": [
    "data.corr()"
   ]
  },
  {
   "cell_type": "code",
   "execution_count": null,
   "metadata": {
    "collapsed": false,
    "uuid": "a92a57dd-76c4-4e8b-ab75-8523fbb49435"
   },
   "outputs": [],
   "source": [
    "data.index"
   ]
  },
  {
   "cell_type": "code",
   "execution_count": null,
   "metadata": {
    "collapsed": false,
    "uuid": "facf1920-22f9-4300-90ed-39f79d9b024c"
   },
   "outputs": [],
   "source": [
    "import matplotlib as mpl\n",
    "mpl_dates = mpl.dates.date2num(data.index.to_pydatetime())\n",
    "mpl_dates"
   ]
  },
  {
   "cell_type": "code",
   "execution_count": null,
   "metadata": {
    "collapsed": false,
    "uuid": "f73eecbd-a135-4448-a5d4-8caa6259039e"
   },
   "outputs": [],
   "source": [
    "plt.figure(figsize=(8, 4))\n",
    "plt.scatter(data['GDX'], data['GLD'], c=mpl_dates, marker='o')\n",
    "plt.grid(True)\n",
    "plt.xlabel('GDX')\n",
    "plt.ylabel('GLD')\n",
    "plt.colorbar(ticks=mpl.dates.DayLocator(interval=250),\n",
    "             format=mpl.dates.DateFormatter('%d %b %y'))\n",
    "# tag: zip_fig_2\n",
    "# title: Scatter plot of prices for GLD and GDX\n",
    "# size: 90"
   ]
  },
  {
   "cell_type": "code",
   "execution_count": null,
   "metadata": {
    "collapsed": false,
    "uuid": "0cf4e75d-b4ea-4822-9e25-8c837fe6049d"
   },
   "outputs": [],
   "source": [
    "with pm.Model() as model:\n",
    "    alpha = pm.Normal('alpha', mu=0, sd=20)\n",
    "    beta = pm.Normal('beta', mu=0, sd=20)\n",
    "    sigma = pm.Uniform('sigma', lower=0, upper=50)\n",
    "    \n",
    "    y_est = alpha + beta * data['GDX'].values\n",
    "    \n",
    "    likelihood = pm.Normal('GLD', mu=y_est, sd=sigma,\n",
    "                           observed=data['GLD'].values)\n",
    "    \n",
    "    start = pm.find_MAP()\n",
    "    step = pm.NUTS(state=start)\n",
    "    trace = pm.sample(100, step, start=start, progressbar=False)"
   ]
  },
  {
   "cell_type": "code",
   "execution_count": null,
   "metadata": {
    "collapsed": false,
    "uuid": "1a64e594-4985-4413-b4b6-c8400691fbc2"
   },
   "outputs": [],
   "source": [
    "fig = pm.traceplot(trace)\n",
    "plt.figure(figsize=(8, 8))\n",
    "# tag: zip_fig_3\n",
    "# title: Trace plots for alpha, beta and sigma based on GDX and GLD data\n",
    "# size: 90"
   ]
  },
  {
   "cell_type": "code",
   "execution_count": null,
   "metadata": {
    "collapsed": false,
    "uuid": "cd213b2f-72e3-4afb-8be3-60e61e94c7c6"
   },
   "outputs": [],
   "source": [
    "plt.figure(figsize=(8, 4))\n",
    "plt.scatter(data['GDX'], data['GLD'], c=mpl_dates, marker='o')\n",
    "plt.grid(True)\n",
    "plt.xlabel('GDX')\n",
    "plt.ylabel('GLD')\n",
    "for i in range(len(trace)):\n",
    "    plt.plot(data['GDX'], trace['alpha'][i] + trace['beta'][i] * data['GDX'])\n",
    "plt.colorbar(ticks=mpl.dates.DayLocator(interval=250),\n",
    "             format=mpl.dates.DateFormatter('%d %b %y'))\n",
    "# tag: zip_fig_4\n",
    "# title: Scatter plot with \"simple\" regression lines\n",
    "# size: 90"
   ]
  },
  {
   "cell_type": "code",
   "execution_count": null,
   "metadata": {
    "collapsed": false,
    "uuid": "88129af4-b234-4399-abe8-dfd7f7d76542"
   },
   "outputs": [],
   "source": [
    "model_randomwalk = pm.Model()\n",
    "with model_randomwalk:\n",
    "    # std of random walk best sampled in log space\n",
    "    sigma_alpha, log_sigma_alpha = \\\n",
    "            model_randomwalk.TransformedVar('sigma_alpha', \n",
    "                            pm.Exponential.dist(1. / .02, testval=.1), \n",
    "                            pm.logtransform)\n",
    "    sigma_beta, log_sigma_beta = \\\n",
    "            model_randomwalk.TransformedVar('sigma_beta', \n",
    "                            pm.Exponential.dist(1. / .02, testval=.1),\n",
    "                            pm.logtransform)"
   ]
  },
  {
   "cell_type": "code",
   "execution_count": null,
   "metadata": {
    "collapsed": false,
    "uuid": "3a778dc5-5c8b-492e-9e15-774b858a42c2"
   },
   "outputs": [],
   "source": [
    "from pymc.distributions.timeseries import GaussianRandomWalk\n",
    "# to make the model more simple, we will apply the same coefficients\n",
    "# to 50 data points at a time\n",
    "subsample_alpha = 50\n",
    "subsample_beta = 50\n",
    "\n",
    "with model_randomwalk:\n",
    "    alpha = GaussianRandomWalk('alpha', sigma_alpha**-2, \n",
    "                               shape=len(data) / subsample_alpha)\n",
    "    beta = GaussianRandomWalk('beta', sigma_beta**-2, \n",
    "                              shape=len(data) / subsample_beta)\n",
    "    \n",
    "    # make coefficients have the same length as prices\n",
    "    alpha_r = np.repeat(alpha, subsample_alpha)\n",
    "    beta_r = np.repeat(beta, subsample_beta)"
   ]
  },
  {
   "cell_type": "code",
   "execution_count": null,
   "metadata": {
    "collapsed": false,
    "uuid": "49d957bb-a262-4c57-bc6a-dfb8406a5b1b"
   },
   "outputs": [],
   "source": [
    "len(data.dropna().GDX.values)  # a bit longer than 1,950"
   ]
  },
  {
   "cell_type": "code",
   "execution_count": null,
   "metadata": {
    "collapsed": false,
    "uuid": "b3321856-0fca-4ab7-a989-0c92c1b2d9d1"
   },
   "outputs": [],
   "source": [
    "with model_randomwalk:\n",
    "    # define regression\n",
    "    regression = alpha_r + beta_r * data.GDX.values[:1950]\n",
    "    \n",
    "    # assume prices are normally distributed,\n",
    "    # the mean comes from the regression\n",
    "    sd = pm.Uniform('sd', 0, 20)\n",
    "    likelihood = pm.Normal('GLD', \n",
    "                           mu=regression, \n",
    "                           sd=sd, \n",
    "                           observed=data.GLD.values[:1950])"
   ]
  },
  {
   "cell_type": "code",
   "execution_count": null,
   "metadata": {
    "collapsed": false,
    "uuid": "bd60e4ab-f384-4f8e-9e25-71b9c7ae426c"
   },
   "outputs": [],
   "source": [
    "import scipy.optimize as sco\n",
    "with model_randomwalk:\n",
    "    # first optimize random walk\n",
    "    start = pm.find_MAP(vars=[alpha, beta], fmin=sco.fmin_l_bfgs_b)\n",
    "    \n",
    "    # sampling\n",
    "    step = pm.NUTS(scaling=start)\n",
    "    trace_rw = pm.sample(100, step, start=start, progressbar=False)"
   ]
  },
  {
   "cell_type": "code",
   "execution_count": null,
   "metadata": {
    "collapsed": false,
    "uuid": "360bff30-a524-413d-b348-1ad82d712236"
   },
   "outputs": [],
   "source": [
    "np.shape(trace_rw['alpha'])"
   ]
  },
  {
   "cell_type": "code",
   "execution_count": null,
   "metadata": {
    "collapsed": false,
    "uuid": "365a04de-c0f1-400c-871f-ec7ea58206f2"
   },
   "outputs": [],
   "source": [
    "part_dates = np.linspace(min(mpl_dates), max(mpl_dates), 39)"
   ]
  },
  {
   "cell_type": "code",
   "execution_count": null,
   "metadata": {
    "collapsed": false,
    "uuid": "c0e08130-d0e5-4bd5-ac38-db50ebb345d6"
   },
   "outputs": [],
   "source": [
    "fig, ax1 = plt.subplots(figsize=(10, 5))\n",
    "plt.plot(part_dates, np.mean(trace_rw['alpha'], axis=0),\n",
    "         'b', lw=2.5, label='alpha')\n",
    "for i in range(45, 55):\n",
    "    plt.plot(part_dates, trace_rw['alpha'][i], 'b-.', lw=0.75)\n",
    "plt.xlabel('date')\n",
    "plt.ylabel('alpha')\n",
    "plt.axis('tight')\n",
    "plt.grid(True)\n",
    "plt.legend(loc=2)\n",
    "ax1.xaxis.set_major_formatter(mpl.dates.DateFormatter('%d %b %y') )\n",
    "ax2 = ax1.twinx()\n",
    "plt.plot(part_dates, np.mean(trace_rw['beta'], axis=0),\n",
    "         'r', lw=2.5, label='beta')\n",
    "for i in range(45, 55):\n",
    "    plt.plot(part_dates, trace_rw['beta'][i], 'r-.', lw=0.75)\n",
    "plt.ylabel('beta')\n",
    "plt.legend(loc=4)\n",
    "fig.autofmt_xdate()\n",
    "# tag: zip_fig_5\n",
    "# title: Evolution of (mean) alpha and (mean) beta over time (updated estimates over time)\n",
    "# size: 90"
   ]
  },
  {
   "cell_type": "code",
   "execution_count": null,
   "metadata": {
    "collapsed": false,
    "uuid": "92d091ea-e27c-4de9-bd69-3baa59f1eeee"
   },
   "outputs": [],
   "source": [
    "plt.figure(figsize=(10, 5))\n",
    "plt.scatter(data['GDX'], data['GLD'], c=mpl_dates, marker='o')\n",
    "plt.colorbar(ticks=mpl.dates.DayLocator(interval=250),\n",
    "             format=mpl.dates.DateFormatter('%d %b %y'))\n",
    "plt.grid(True)\n",
    "plt.xlabel('GDX')\n",
    "plt.ylabel('GLD')\n",
    "x = np.linspace(min(data['GDX']), max(data['GDX'])) \n",
    "for i in range(39):\n",
    "    alpha_rw = np.mean(trace_rw['alpha'].T[i])\n",
    "    beta_rw = np.mean(trace_rw['beta'].T[i]) \n",
    "    plt.plot(x, alpha_rw + beta_rw * x, color=plt.cm.jet(256 * i / 39))\n",
    "# tag: zip_fig_6\n",
    "# title: Scatter plot with time-dependent regression lines (updated estimates)\n",
    "# size: 90"
   ]
  }
 ],
 "metadata": {
  "kernelspec": {
   "display_name": "Python 2",
   "language": "python",
   "name": "python2"
  },
  "language_info": {
   "codemirror_mode": {
    "name": "ipython",
    "version": 2
   },
   "file_extension": ".py",
   "mimetype": "text/x-python",
   "name": "python",
   "nbconvert_exporter": "python",
   "pygments_lexer": "ipython2",
   "version": "2.7.12"
  }
 },
 "nbformat": 4,
 "nbformat_minor": 0
}
